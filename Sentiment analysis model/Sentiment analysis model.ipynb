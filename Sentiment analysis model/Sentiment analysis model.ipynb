{
 "cells": [
  {
   "cell_type": "markdown",
   "id": "694b3cb3-cb7d-4443-bfaf-cbb661aed52e",
   "metadata": {},
   "source": [
    "1. Install and Import Dependencies"
   ]
  },
  {
   "cell_type": "code",
   "execution_count": 3,
   "id": "a1623efc-efc1-4368-ab53-23131e03b6ed",
   "metadata": {
    "collapsed": true,
    "jupyter": {
     "outputs_hidden": true
    },
    "tags": []
   },
   "outputs": [
    {
     "name": "stdout",
     "output_type": "stream",
     "text": [
      "Requirement already satisfied: torch in ./opt/anaconda3/lib/python3.9/site-packages (2.0.1)\n",
      "Requirement already satisfied: torchvision in ./opt/anaconda3/lib/python3.9/site-packages (0.15.2)\n",
      "Requirement already satisfied: torchaudio in ./opt/anaconda3/lib/python3.9/site-packages (2.0.2)\n",
      "Requirement already satisfied: networkx in ./opt/anaconda3/lib/python3.9/site-packages (from torch) (2.7.1)\n",
      "Requirement already satisfied: jinja2 in ./opt/anaconda3/lib/python3.9/site-packages (from torch) (2.11.3)\n",
      "Requirement already satisfied: filelock in ./opt/anaconda3/lib/python3.9/site-packages (from torch) (3.6.0)\n",
      "Requirement already satisfied: sympy in ./opt/anaconda3/lib/python3.9/site-packages (from torch) (1.10.1)\n",
      "Requirement already satisfied: typing-extensions in ./opt/anaconda3/lib/python3.9/site-packages (from torch) (4.1.1)\n",
      "Requirement already satisfied: numpy in ./opt/anaconda3/lib/python3.9/site-packages (from torchvision) (1.22.4)\n",
      "Requirement already satisfied: pillow!=8.3.*,>=5.3.0 in ./opt/anaconda3/lib/python3.9/site-packages (from torchvision) (9.0.1)\n",
      "Requirement already satisfied: requests in ./opt/anaconda3/lib/python3.9/site-packages (from torchvision) (2.27.1)\n",
      "Requirement already satisfied: MarkupSafe>=0.23 in ./opt/anaconda3/lib/python3.9/site-packages (from jinja2->torch) (2.0.1)\n",
      "Requirement already satisfied: certifi>=2017.4.17 in ./opt/anaconda3/lib/python3.9/site-packages (from requests->torchvision) (2022.12.7)\n",
      "Requirement already satisfied: urllib3<1.27,>=1.21.1 in ./opt/anaconda3/lib/python3.9/site-packages (from requests->torchvision) (1.26.9)\n",
      "Requirement already satisfied: idna<4,>=2.5 in ./opt/anaconda3/lib/python3.9/site-packages (from requests->torchvision) (3.3)\n",
      "Requirement already satisfied: charset-normalizer~=2.0.0 in ./opt/anaconda3/lib/python3.9/site-packages (from requests->torchvision) (2.0.4)\n",
      "Requirement already satisfied: mpmath>=0.19 in ./opt/anaconda3/lib/python3.9/site-packages (from sympy->torch) (1.2.1)\n",
      "Found existing installation: torch 2.0.1\n",
      "Uninstalling torch-2.0.1:\n",
      "  Successfully uninstalled torch-2.0.1\n",
      "Found existing installation: torchvision 0.15.2\n",
      "Uninstalling torchvision-0.15.2:\n",
      "  Successfully uninstalled torchvision-0.15.2\n",
      "Collecting torch\n",
      "  Using cached torch-2.0.1-cp39-none-macosx_10_9_x86_64.whl (143.4 MB)\n",
      "Collecting torchvision\n",
      "  Using cached torchvision-0.15.2-cp39-cp39-macosx_10_9_x86_64.whl (1.5 MB)\n",
      "Requirement already satisfied: jinja2 in ./opt/anaconda3/lib/python3.9/site-packages (from torch) (2.11.3)\n",
      "Requirement already satisfied: sympy in ./opt/anaconda3/lib/python3.9/site-packages (from torch) (1.10.1)\n",
      "Requirement already satisfied: typing-extensions in ./opt/anaconda3/lib/python3.9/site-packages (from torch) (4.1.1)\n",
      "Requirement already satisfied: filelock in ./opt/anaconda3/lib/python3.9/site-packages (from torch) (3.6.0)\n",
      "Requirement already satisfied: networkx in ./opt/anaconda3/lib/python3.9/site-packages (from torch) (2.7.1)\n",
      "Requirement already satisfied: pillow!=8.3.*,>=5.3.0 in ./opt/anaconda3/lib/python3.9/site-packages (from torchvision) (9.0.1)\n",
      "Requirement already satisfied: numpy in ./opt/anaconda3/lib/python3.9/site-packages (from torchvision) (1.22.4)\n",
      "Requirement already satisfied: requests in ./opt/anaconda3/lib/python3.9/site-packages (from torchvision) (2.27.1)\n",
      "Requirement already satisfied: MarkupSafe>=0.23 in ./opt/anaconda3/lib/python3.9/site-packages (from jinja2->torch) (2.0.1)\n",
      "Requirement already satisfied: certifi>=2017.4.17 in ./opt/anaconda3/lib/python3.9/site-packages (from requests->torchvision) (2022.12.7)\n",
      "Requirement already satisfied: charset-normalizer~=2.0.0 in ./opt/anaconda3/lib/python3.9/site-packages (from requests->torchvision) (2.0.4)\n",
      "Requirement already satisfied: urllib3<1.27,>=1.21.1 in ./opt/anaconda3/lib/python3.9/site-packages (from requests->torchvision) (1.26.9)\n",
      "Requirement already satisfied: idna<4,>=2.5 in ./opt/anaconda3/lib/python3.9/site-packages (from requests->torchvision) (3.3)\n",
      "Requirement already satisfied: mpmath>=0.19 in ./opt/anaconda3/lib/python3.9/site-packages (from sympy->torch) (1.2.1)\n",
      "Installing collected packages: torch, torchvision\n",
      "Successfully installed torch-2.0.1 torchvision-0.15.2\n"
     ]
    }
   ],
   "source": [
    "# MPS acceleration is available on MacOS 12.3!+\n",
    "!pip install torch torchvision torchaudio\n",
    "#if kernel dies when importing torch run the following uninstall&install\n",
    "!pip3 uninstall -y torch torchvision\n",
    "!pip3 install torch torchvision"
   ]
  },
  {
   "cell_type": "code",
   "execution_count": 4,
   "id": "b20a8951-f5b3-49a9-a2b0-6a1a2715a682",
   "metadata": {
    "collapsed": true,
    "jupyter": {
     "outputs_hidden": true
    },
    "tags": []
   },
   "outputs": [
    {
     "name": "stdout",
     "output_type": "stream",
     "text": [
      "Requirement already satisfied: transformers in ./opt/anaconda3/lib/python3.9/site-packages (4.32.0)\n",
      "Requirement already satisfied: requests in ./opt/anaconda3/lib/python3.9/site-packages (2.27.1)\n",
      "Requirement already satisfied: beautifulsoup4 in ./opt/anaconda3/lib/python3.9/site-packages (4.11.1)\n",
      "Requirement already satisfied: pandas in ./opt/anaconda3/lib/python3.9/site-packages (1.4.2)\n",
      "Requirement already satisfied: numpy in ./opt/anaconda3/lib/python3.9/site-packages (1.22.4)\n",
      "Requirement already satisfied: filelock in ./opt/anaconda3/lib/python3.9/site-packages (from transformers) (3.6.0)\n",
      "Requirement already satisfied: regex!=2019.12.17 in ./opt/anaconda3/lib/python3.9/site-packages (from transformers) (2022.3.15)\n",
      "Requirement already satisfied: huggingface-hub<1.0,>=0.15.1 in ./opt/anaconda3/lib/python3.9/site-packages (from transformers) (0.16.4)\n",
      "Requirement already satisfied: tokenizers!=0.11.3,<0.14,>=0.11.1 in ./opt/anaconda3/lib/python3.9/site-packages (from transformers) (0.13.3)\n",
      "Requirement already satisfied: packaging>=20.0 in ./opt/anaconda3/lib/python3.9/site-packages (from transformers) (21.3)\n",
      "Requirement already satisfied: pyyaml>=5.1 in ./opt/anaconda3/lib/python3.9/site-packages (from transformers) (6.0)\n",
      "Requirement already satisfied: tqdm>=4.27 in ./opt/anaconda3/lib/python3.9/site-packages (from transformers) (4.64.0)\n",
      "Requirement already satisfied: safetensors>=0.3.1 in ./opt/anaconda3/lib/python3.9/site-packages (from transformers) (0.3.3)\n",
      "Requirement already satisfied: charset-normalizer~=2.0.0 in ./opt/anaconda3/lib/python3.9/site-packages (from requests) (2.0.4)\n",
      "Requirement already satisfied: urllib3<1.27,>=1.21.1 in ./opt/anaconda3/lib/python3.9/site-packages (from requests) (1.26.9)\n",
      "Requirement already satisfied: idna<4,>=2.5 in ./opt/anaconda3/lib/python3.9/site-packages (from requests) (3.3)\n",
      "Requirement already satisfied: certifi>=2017.4.17 in ./opt/anaconda3/lib/python3.9/site-packages (from requests) (2022.12.7)\n",
      "Requirement already satisfied: soupsieve>1.2 in ./opt/anaconda3/lib/python3.9/site-packages (from beautifulsoup4) (2.3.1)\n",
      "Requirement already satisfied: python-dateutil>=2.8.1 in ./opt/anaconda3/lib/python3.9/site-packages (from pandas) (2.8.2)\n",
      "Requirement already satisfied: pytz>=2020.1 in ./opt/anaconda3/lib/python3.9/site-packages (from pandas) (2021.3)\n",
      "Requirement already satisfied: typing-extensions>=3.7.4.3 in ./opt/anaconda3/lib/python3.9/site-packages (from huggingface-hub<1.0,>=0.15.1->transformers) (4.1.1)\n",
      "Requirement already satisfied: fsspec in ./opt/anaconda3/lib/python3.9/site-packages (from huggingface-hub<1.0,>=0.15.1->transformers) (2022.3.0)\n",
      "Requirement already satisfied: pyparsing!=3.0.5,>=2.0.2 in ./opt/anaconda3/lib/python3.9/site-packages (from packaging>=20.0->transformers) (3.0.4)\n",
      "Requirement already satisfied: six>=1.5 in ./opt/anaconda3/lib/python3.9/site-packages (from python-dateutil>=2.8.1->pandas) (1.16.0)\n"
     ]
    }
   ],
   "source": [
    "!pip install transformers requests beautifulsoup4 pandas numpy"
   ]
  },
  {
   "cell_type": "code",
   "execution_count": 5,
   "id": "0a1b3545-01fc-4ea0-bb4b-b819790b2263",
   "metadata": {},
   "outputs": [],
   "source": [
    "from transformers import AutoTokenizer, AutoModelForSequenceClassification\n",
    "import requests\n",
    "from bs4 import BeautifulSoup\n",
    "import re\n",
    "import torch"
   ]
  },
  {
   "cell_type": "markdown",
   "id": "b98b6f3b-13ac-4288-a7b8-e68000bff337",
   "metadata": {},
   "source": [
    "2. Instantiate Model"
   ]
  },
  {
   "cell_type": "code",
   "execution_count": 6,
   "id": "c60864da-f1b3-459b-acd3-86e62059192b",
   "metadata": {},
   "outputs": [
    {
     "data": {
      "application/vnd.jupyter.widget-view+json": {
       "model_id": "3f410f6bdeeb47bab58ed3c55b868d93",
       "version_major": 2,
       "version_minor": 0
      },
      "text/plain": [
       "Downloading (…)okenizer_config.json:   0%|          | 0.00/39.0 [00:00<?, ?B/s]"
      ]
     },
     "metadata": {},
     "output_type": "display_data"
    },
    {
     "data": {
      "application/vnd.jupyter.widget-view+json": {
       "model_id": "831b3e9686774766ad88f50738ef8062",
       "version_major": 2,
       "version_minor": 0
      },
      "text/plain": [
       "Downloading (…)lve/main/config.json:   0%|          | 0.00/953 [00:00<?, ?B/s]"
      ]
     },
     "metadata": {},
     "output_type": "display_data"
    },
    {
     "data": {
      "application/vnd.jupyter.widget-view+json": {
       "model_id": "7bf806c1ba7045f89086d1bcadf3ae02",
       "version_major": 2,
       "version_minor": 0
      },
      "text/plain": [
       "Downloading (…)solve/main/vocab.txt:   0%|          | 0.00/872k [00:00<?, ?B/s]"
      ]
     },
     "metadata": {},
     "output_type": "display_data"
    },
    {
     "data": {
      "application/vnd.jupyter.widget-view+json": {
       "model_id": "11dd8d258c1f4a71b5cdf36c1942e6c7",
       "version_major": 2,
       "version_minor": 0
      },
      "text/plain": [
       "Downloading (…)cial_tokens_map.json:   0%|          | 0.00/112 [00:00<?, ?B/s]"
      ]
     },
     "metadata": {},
     "output_type": "display_data"
    },
    {
     "data": {
      "application/vnd.jupyter.widget-view+json": {
       "model_id": "459005f33f8547ff8034696dfb285e5a",
       "version_major": 2,
       "version_minor": 0
      },
      "text/plain": [
       "Downloading pytorch_model.bin:   0%|          | 0.00/669M [00:00<?, ?B/s]"
      ]
     },
     "metadata": {},
     "output_type": "display_data"
    }
   ],
   "source": [
    "tokenizer = AutoTokenizer.from_pretrained('nlptown/bert-base-multilingual-uncased-sentiment')\n",
    "model = AutoModelForSequenceClassification.from_pretrained('nlptown/bert-base-multilingual-uncased-sentiment')"
   ]
  },
  {
   "cell_type": "code",
   "execution_count": null,
   "id": "edbc8705-a6ef-424c-884d-daa8b075c4fc",
   "metadata": {},
   "outputs": [],
   "source": []
  },
  {
   "cell_type": "markdown",
   "id": "8b7346b1-042b-4e60-bf22-7543e4bea7d9",
   "metadata": {},
   "source": [
    "3. Encode and Calculate Sentiment"
   ]
  },
  {
   "cell_type": "code",
   "execution_count": 8,
   "id": "c17447b8-1e08-48d6-8cc2-70c18b3b1354",
   "metadata": {},
   "outputs": [],
   "source": [
    "tokens = tokenizer.encode('I hated this, absolutely the worst', return_tensors='pt')"
   ]
  },
  {
   "cell_type": "code",
   "execution_count": 9,
   "id": "ff260baf-1e65-4fc5-bde3-11f59d0e053c",
   "metadata": {},
   "outputs": [
    {
     "data": {
      "text/plain": [
       "tensor([[  101,   151, 39487, 10163, 10372,   117, 35925, 10563, 10103, 43060,\n",
       "           102]])"
      ]
     },
     "execution_count": 9,
     "metadata": {},
     "output_type": "execute_result"
    }
   ],
   "source": [
    "tokens"
   ]
  },
  {
   "cell_type": "code",
   "execution_count": 10,
   "id": "71be453c-6555-4c9e-acf9-23fe351fea04",
   "metadata": {},
   "outputs": [],
   "source": [
    "result = model(tokens)"
   ]
  },
  {
   "cell_type": "code",
   "execution_count": 11,
   "id": "a4139757-867b-4f38-b79c-c1c4a3267973",
   "metadata": {},
   "outputs": [
    {
     "data": {
      "text/plain": [
       "SequenceClassifierOutput(loss=None, logits=tensor([[ 4.8750,  1.7880, -0.8356, -3.0027, -2.0727]],\n",
       "       grad_fn=<AddmmBackward0>), hidden_states=None, attentions=None)"
      ]
     },
     "execution_count": 11,
     "metadata": {},
     "output_type": "execute_result"
    }
   ],
   "source": [
    "result"
   ]
  },
  {
   "cell_type": "code",
   "execution_count": 12,
   "id": "f5edea90-c907-407c-aea4-5f4b8c2c302b",
   "metadata": {},
   "outputs": [
    {
     "data": {
      "text/plain": [
       "1"
      ]
     },
     "execution_count": 12,
     "metadata": {},
     "output_type": "execute_result"
    }
   ],
   "source": [
    "int(torch.argmax(result.logits))+1"
   ]
  },
  {
   "cell_type": "markdown",
   "id": "ff731fdf-1c8f-48b6-b550-ea289c840ac3",
   "metadata": {},
   "source": [
    "4. Collect Reviews"
   ]
  },
  {
   "cell_type": "code",
   "execution_count": 16,
   "id": "28558448-22df-42bb-b786-7961094adb00",
   "metadata": {},
   "outputs": [],
   "source": [
    "r = requests.get('https://www.yelp.com/biz/the-butterfly-and-the-pig-glasgow')\n",
    "soup = BeautifulSoup(r.text, 'html.parser')\n",
    "regex = re.compile('.*comment.*')\n",
    "results = soup.find_all('p', {'class':regex})\n",
    "reviews = [result.text for result in results]"
   ]
  },
  {
   "cell_type": "code",
   "execution_count": 17,
   "id": "45867286-e82a-4b6e-9c08-219f8e18115d",
   "metadata": {
    "collapsed": true,
    "jupyter": {
     "outputs_hidden": true
    },
    "tags": []
   },
   "outputs": [
    {
     "data": {
      "text/plain": [
       "['Amazing service and food. Highly recommend. Accommodated a large party of 7 with no problems. Waitress was lovely!',\n",
       " \"Such a cute and quaint place for afternoon tea. We found the place on Yelp and wanted to give it a try. Didn't have reservations but there was a good amount of tables available downstairs. Found out later that they had more seating upstairs. Staff was cute sweet and friendly. The whole area where we were seated was quite shabby chic with all the vintage and mismatched dishes and cutlery. Wooden table with lace tablecloth. We came for afternoon tea which was quite affordable. They also have upgrade to bubbly if you wanted something extra. The three tier offered sandwiches, cakes, scones, salmon on top of crackers and served with chips. Everything was great. Presentation was beautiful. Tea was unlimited I believe which is nice a/ some places charge for refills. There's also a la carte dishes as well. Overall, cute spot for tea.\",\n",
       " 'I had bookmarked this place for dinner, but when we got to town earlier than expected, we decided to have lunch here instead. The restaurant is downstairs, and the tea room is upstairs. The restaurant décor is chic-shabby, living-room style, with a couple couches strewn about, and tables you used to have at your Mom\\'s house.It was not the warm welcome we were expecting when we first walked in \"We\\'re not open yet!\", so we went upstairs, who told us that yes, the bar is actually open and available for cocktails. \\xa0So back downstairs we went. \\xa0While still not friendly, we were able to get drinks in a timely manner.Lunch started at noon, so we moved from the bar to a table. Our server had finally warmed up to us, and was quite efficient. \\xa0I went with a frittata and salad. \\xa0This was my first experience with \"rocket\" a green which is very similar to arugula, one of my least favorite greens. \\xa0This ended up being the salad green that was served with every meal all over Scotland and Ireland, unfortunately. \\xa0I really liked how fresh tasting my frittata was, though, and the portion was huge.Also - the menu was hilarious, so its worth going here just for a read of that.',\n",
       " 'A very quaint but fun and lively atmosphere! They have live bands that play here during the week, we caught the start of one of the bands. Our waitress was awesome. She helped us narrow down our choices and I ordered fried mushrooms as an appetizer (not pictured) but was good. The fish & chips were phenomenal! It was entirely too much for me so I had take away. Honestly, I only ate a 1/4 of that fish because it took over the whole plate. It was so delicious. I will be back in October',\n",
       " 'Fantastic pub. Best fish and chips. Large portions. Sunday roast excellent. Reasonable prices. Interesting decor.',\n",
       " \"Despite everyone saying the menu was confusing I found it amusing and endearing and not at all hard to maneuver we left satisfied and satiated with the taste of delicious sticky pudding. We made a reservation but didn't end up needing it however it did fill up quickly. It was relaxing and comfortable in the basement. The aesthetic was inviting and eclectic.\",\n",
       " 'Wonderful place to grab some grub and enjoy a nice drink or two. The food is good and the service top notch. Loved the location and the decor was fun. We are back in the states now, but we will remember our visit for a long time to come.',\n",
       " 'The food is amazing food choices and drink a were spot on. Great service and everyone was super friendly. The inside was warm and inviting. A great place for drinks and a fun time.',\n",
       " \"It was a little difficult to find this place but what a find! \\xa0It's below street level and the signage is discreet. \\xa0But holy cow, \\xa0the food and the service was amazing. \\xa0My fish was huge and perfectly prepared. \\xa0Chips (steak fries) were very good. \\xa0Beef roast was huge and again, perfectly prepared. Pints were cold, staff was gracious and the atmosphere was relaxed.\",\n",
       " \"Really enjoyed the cool venue and food, the service was fair.We stopped in for a quick dinner and found the food to be quite tasty. We started with the Haggis Eggrolls. This was our first time trying Haggis in any form and think this is a great way to venture into the world of Haggis. They serve their Haggis Eggrolls with a peppercorn sauce which was a lovely addition. It is worth noting they call them Haggis Fritters but I really compare them more to an Eggroll. For dinner, I had the steak pie with mash. This was the perfect meal for a hungry traveler, such as myself. The puff pastry was cooked perfectly, the meat was tender and tasty, the mash (mashed potatoes) was so smooth, and the little carrots were so good. Needless to say, my plate was cleared in a very short period of time. My wife had one of their burgers, sadly I can't remember which one but I do remember the bite I took and I found it to be a very satisfying burger.We loved the dining room and found it to be very fun and charming. The service was just fair, our server was ok. She sort of made us feel like we were an inconvenience but it didn't change the taste of the food.We would recommend The Butterfly and the Pig!\",\n",
       " \"Did afternoon tea here on Father's Day. The tea sandwiches and sweets were good. Server didn't know what kind of tea was being served. There is a difference between English Breakfast and Scottish Breakfast for us tea snobs. I kind of feel like if you're going for tea, the servers should know tea.\"]"
      ]
     },
     "execution_count": 17,
     "metadata": {},
     "output_type": "execute_result"
    }
   ],
   "source": [
    "reviews"
   ]
  },
  {
   "cell_type": "markdown",
   "id": "70563324-acad-403e-af3d-fcfdc9ff306b",
   "metadata": {},
   "source": [
    "5. Load Reviews into DataFrame and Score"
   ]
  },
  {
   "cell_type": "code",
   "execution_count": 20,
   "id": "df20807e-d31a-4e1c-b4e2-b30010814005",
   "metadata": {},
   "outputs": [],
   "source": [
    "import pandas as pd\n",
    "import numpy as np"
   ]
  },
  {
   "cell_type": "code",
   "execution_count": 21,
   "id": "682ec3bd-4f4b-4e53-b437-a7cf7addfa20",
   "metadata": {},
   "outputs": [],
   "source": [
    "df = pd.DataFrame(np.array(reviews), columns=['review'])"
   ]
  },
  {
   "cell_type": "code",
   "execution_count": 22,
   "id": "c262b3a0-9cbe-4900-9e54-a27e5fc1c817",
   "metadata": {},
   "outputs": [
    {
     "data": {
      "text/html": [
       "<div>\n",
       "<style scoped>\n",
       "    .dataframe tbody tr th:only-of-type {\n",
       "        vertical-align: middle;\n",
       "    }\n",
       "\n",
       "    .dataframe tbody tr th {\n",
       "        vertical-align: top;\n",
       "    }\n",
       "\n",
       "    .dataframe thead th {\n",
       "        text-align: right;\n",
       "    }\n",
       "</style>\n",
       "<table border=\"1\" class=\"dataframe\">\n",
       "  <thead>\n",
       "    <tr style=\"text-align: right;\">\n",
       "      <th></th>\n",
       "      <th>review</th>\n",
       "    </tr>\n",
       "  </thead>\n",
       "  <tbody>\n",
       "    <tr>\n",
       "      <th>0</th>\n",
       "      <td>Amazing service and food. Highly recommend. Ac...</td>\n",
       "    </tr>\n",
       "    <tr>\n",
       "      <th>1</th>\n",
       "      <td>Such a cute and quaint place for afternoon tea...</td>\n",
       "    </tr>\n",
       "    <tr>\n",
       "      <th>2</th>\n",
       "      <td>I had bookmarked this place for dinner, but wh...</td>\n",
       "    </tr>\n",
       "    <tr>\n",
       "      <th>3</th>\n",
       "      <td>A very quaint but fun and lively atmosphere! T...</td>\n",
       "    </tr>\n",
       "    <tr>\n",
       "      <th>4</th>\n",
       "      <td>Fantastic pub. Best fish and chips. Large port...</td>\n",
       "    </tr>\n",
       "  </tbody>\n",
       "</table>\n",
       "</div>"
      ],
      "text/plain": [
       "                                              review\n",
       "0  Amazing service and food. Highly recommend. Ac...\n",
       "1  Such a cute and quaint place for afternoon tea...\n",
       "2  I had bookmarked this place for dinner, but wh...\n",
       "3  A very quaint but fun and lively atmosphere! T...\n",
       "4  Fantastic pub. Best fish and chips. Large port..."
      ]
     },
     "execution_count": 22,
     "metadata": {},
     "output_type": "execute_result"
    }
   ],
   "source": [
    "df.head()"
   ]
  },
  {
   "cell_type": "code",
   "execution_count": 23,
   "id": "1aa14165-8613-44e1-bea2-3b773be69bc8",
   "metadata": {},
   "outputs": [],
   "source": [
    "def sentiment_score(review):\n",
    "    tokens = tokenizer.encode(review, return_tensors='pt')\n",
    "    result = model(tokens)\n",
    "    return int(torch.argmax(result.logits))+1"
   ]
  },
  {
   "cell_type": "code",
   "execution_count": 26,
   "id": "5a747b7d-6714-4b87-869d-47ff47041c91",
   "metadata": {},
   "outputs": [
    {
     "data": {
      "text/plain": [
       "5"
      ]
     },
     "execution_count": 26,
     "metadata": {},
     "output_type": "execute_result"
    }
   ],
   "source": [
    "sentiment_score(df['review'].iloc[0])"
   ]
  },
  {
   "cell_type": "code",
   "execution_count": 27,
   "id": "6d26374b-d2d4-4f73-b6fc-f76659376f1f",
   "metadata": {},
   "outputs": [],
   "source": [
    "df['sentiment'] = df['review'].apply(lambda x: sentiment_score(x[:512]))\n",
    "#NLP can't parse more than 512 token at one time"
   ]
  },
  {
   "cell_type": "code",
   "execution_count": 28,
   "id": "34649f02-4e24-4a5c-bec0-6b6c78837fe7",
   "metadata": {},
   "outputs": [
    {
     "data": {
      "text/html": [
       "<div>\n",
       "<style scoped>\n",
       "    .dataframe tbody tr th:only-of-type {\n",
       "        vertical-align: middle;\n",
       "    }\n",
       "\n",
       "    .dataframe tbody tr th {\n",
       "        vertical-align: top;\n",
       "    }\n",
       "\n",
       "    .dataframe thead th {\n",
       "        text-align: right;\n",
       "    }\n",
       "</style>\n",
       "<table border=\"1\" class=\"dataframe\">\n",
       "  <thead>\n",
       "    <tr style=\"text-align: right;\">\n",
       "      <th></th>\n",
       "      <th>review</th>\n",
       "      <th>sentiment</th>\n",
       "    </tr>\n",
       "  </thead>\n",
       "  <tbody>\n",
       "    <tr>\n",
       "      <th>0</th>\n",
       "      <td>Amazing service and food. Highly recommend. Ac...</td>\n",
       "      <td>5</td>\n",
       "    </tr>\n",
       "    <tr>\n",
       "      <th>1</th>\n",
       "      <td>Such a cute and quaint place for afternoon tea...</td>\n",
       "      <td>4</td>\n",
       "    </tr>\n",
       "    <tr>\n",
       "      <th>2</th>\n",
       "      <td>I had bookmarked this place for dinner, but wh...</td>\n",
       "      <td>4</td>\n",
       "    </tr>\n",
       "    <tr>\n",
       "      <th>3</th>\n",
       "      <td>A very quaint but fun and lively atmosphere! T...</td>\n",
       "      <td>4</td>\n",
       "    </tr>\n",
       "    <tr>\n",
       "      <th>4</th>\n",
       "      <td>Fantastic pub. Best fish and chips. Large port...</td>\n",
       "      <td>5</td>\n",
       "    </tr>\n",
       "    <tr>\n",
       "      <th>5</th>\n",
       "      <td>Despite everyone saying the menu was confusing...</td>\n",
       "      <td>4</td>\n",
       "    </tr>\n",
       "    <tr>\n",
       "      <th>6</th>\n",
       "      <td>Wonderful place to grab some grub and enjoy a ...</td>\n",
       "      <td>5</td>\n",
       "    </tr>\n",
       "    <tr>\n",
       "      <th>7</th>\n",
       "      <td>The food is amazing food choices and drink a w...</td>\n",
       "      <td>5</td>\n",
       "    </tr>\n",
       "    <tr>\n",
       "      <th>8</th>\n",
       "      <td>It was a little difficult to find this place b...</td>\n",
       "      <td>5</td>\n",
       "    </tr>\n",
       "    <tr>\n",
       "      <th>9</th>\n",
       "      <td>Really enjoyed the cool venue and food, the se...</td>\n",
       "      <td>4</td>\n",
       "    </tr>\n",
       "    <tr>\n",
       "      <th>10</th>\n",
       "      <td>Did afternoon tea here on Father's Day. The te...</td>\n",
       "      <td>4</td>\n",
       "    </tr>\n",
       "  </tbody>\n",
       "</table>\n",
       "</div>"
      ],
      "text/plain": [
       "                                               review  sentiment\n",
       "0   Amazing service and food. Highly recommend. Ac...          5\n",
       "1   Such a cute and quaint place for afternoon tea...          4\n",
       "2   I had bookmarked this place for dinner, but wh...          4\n",
       "3   A very quaint but fun and lively atmosphere! T...          4\n",
       "4   Fantastic pub. Best fish and chips. Large port...          5\n",
       "5   Despite everyone saying the menu was confusing...          4\n",
       "6   Wonderful place to grab some grub and enjoy a ...          5\n",
       "7   The food is amazing food choices and drink a w...          5\n",
       "8   It was a little difficult to find this place b...          5\n",
       "9   Really enjoyed the cool venue and food, the se...          4\n",
       "10  Did afternoon tea here on Father's Day. The te...          4"
      ]
     },
     "execution_count": 28,
     "metadata": {},
     "output_type": "execute_result"
    }
   ],
   "source": [
    "df"
   ]
  },
  {
   "cell_type": "code",
   "execution_count": null,
   "id": "53c840ee-c175-45b3-9a98-ac434805ced9",
   "metadata": {},
   "outputs": [],
   "source": []
  }
 ],
 "metadata": {
  "kernelspec": {
   "display_name": "Python 3 (ipykernel)",
   "language": "python",
   "name": "python3"
  },
  "language_info": {
   "codemirror_mode": {
    "name": "ipython",
    "version": 3
   },
   "file_extension": ".py",
   "mimetype": "text/x-python",
   "name": "python",
   "nbconvert_exporter": "python",
   "pygments_lexer": "ipython3",
   "version": "3.9.12"
  }
 },
 "nbformat": 4,
 "nbformat_minor": 5
}
